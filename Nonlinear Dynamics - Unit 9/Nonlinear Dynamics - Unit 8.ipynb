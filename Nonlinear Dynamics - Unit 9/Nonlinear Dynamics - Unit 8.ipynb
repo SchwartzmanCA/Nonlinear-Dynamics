{
 "cells": [
  {
   "cell_type": "code",
   "execution_count": 21,
   "id": "0b95cafa-b818-43ac-888e-6b5db735ac75",
   "metadata": {
    "tags": []
   },
   "outputs": [
    {
     "ename": "ModuleNotFoundError",
     "evalue": "No module named 'matplotlib'",
     "output_type": "error",
     "traceback": [
      "\u001b[1;31m---------------------------------------------------------------------------\u001b[0m",
      "\u001b[1;31mModuleNotFoundError\u001b[0m                       Traceback (most recent call last)",
      "Cell \u001b[1;32mIn[21], line 1\u001b[0m\n\u001b[1;32m----> 1\u001b[0m \u001b[38;5;28;01mimport\u001b[39;00m \u001b[38;5;21;01mmatplotlib\u001b[39;00m\u001b[38;5;21;01m.\u001b[39;00m\u001b[38;5;21;01mpyplot\u001b[39;00m \u001b[38;5;28;01mas\u001b[39;00m \u001b[38;5;21;01mplt\u001b[39;00m\n\u001b[0;32m      3\u001b[0m datafile \u001b[38;5;241m=\u001b[39m \u001b[38;5;28mopen\u001b[39m(\u001b[38;5;124m\"\u001b[39m\u001b[38;5;124mamplitude.dat\u001b[39m\u001b[38;5;124m\"\u001b[39m, \u001b[38;5;124m\"\u001b[39m\u001b[38;5;124mr\u001b[39m\u001b[38;5;124m\"\u001b[39m)\n\u001b[0;32m      4\u001b[0m timeseries \u001b[38;5;241m=\u001b[39m []\n",
      "\u001b[1;31mModuleNotFoundError\u001b[0m: No module named 'matplotlib'"
     ]
    }
   ],
   "source": [
    "import matplotlib.pyplot as plt\n",
    "\n",
    "datafile = open(\"amplitude.dat\", \"r\")\n",
    "timeseries = []\n",
    "for y in datafile:\n",
    "    timeseries.append(float(y))\n",
    "datafile.close()\n",
    "\n",
    "def embed(timeseries, tau, m):\n",
    "    embedding = []\n",
    "    vector = []\n",
    "    for t in range(len(timeseries) - m*tau):\n",
    "        vector.clear()\n",
    "        for j in range(m+1):\n",
    "            vector.append(timeseries[(m*tau + t) - (j*tau)])\n",
    "        embedding.append(vector.copy())\n",
    "    return embedding\n",
    "\n",
    "embedding = embed(timeseries, 8, 7)\n",
    "\n",
    "x_points = []\n",
    "for i in embedding:\n",
    "    x_points.append(i[0])\n",
    "y_points = []\n",
    "for i in embedding:\n",
    "    y_points.append(i[2])\n",
    "    \n",
    "print(x_points)"
   ]
  },
  {
   "cell_type": "code",
   "execution_count": null,
   "id": "13f39414-658b-405e-8cb5-524cf2292c39",
   "metadata": {},
   "outputs": [],
   "source": []
  }
 ],
 "metadata": {
  "kernelspec": {
   "display_name": "Python 3 (ipykernel)",
   "language": "python",
   "name": "python3"
  },
  "language_info": {
   "codemirror_mode": {
    "name": "ipython",
    "version": 3
   },
   "file_extension": ".py",
   "mimetype": "text/x-python",
   "name": "python",
   "nbconvert_exporter": "python",
   "pygments_lexer": "ipython3",
   "version": "3.11.3"
  }
 },
 "nbformat": 4,
 "nbformat_minor": 5
}
