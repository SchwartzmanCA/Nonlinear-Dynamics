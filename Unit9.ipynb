{
 "cells": [
  {
   "cell_type": "code",
   "execution_count": 7,
   "id": "d8df9539",
   "metadata": {},
   "outputs": [],
   "source": [
    "import math\n",
    "import numpy as np\n",
    "import matplotlib.pyplot as plt\n",
    "from scipy import stats"
   ]
  },
  {
   "cell_type": "markdown",
   "id": "f1a009b0",
   "metadata": {},
   "source": [
    "# Nonlinear Dynamics - Unit 9\n",
    "# Homework 9.1"
   ]
  },
  {
   "cell_type": "code",
   "execution_count": 8,
   "id": "1c10c851",
   "metadata": {},
   "outputs": [],
   "source": [
    "#load data in a list of 3-tuples\n",
    "\n",
    "pointsfile = open(\"CapDimData.dat\",'r')\n",
    "points = []\n",
    "for line in pointsfile:\n",
    "    points.append(tuple(float(x) for x in line.split(\",\")))"
   ]
  },
  {
   "cell_type": "markdown",
   "id": "febb9bcb",
   "metadata": {},
   "source": [
    "## Question 1\n",
    "\n",
    "Implement a function for counting the number of boxes $N(\\varepsilon)$ of side length $\\varepsilon$ needed to cover a two-dimensional trajectory of a dynamical system.  Your code should take the trajectory and an $\\varepsilon$; it should output $N(\\varepsilon)$."
   ]
  },
  {
   "cell_type": "code",
   "execution_count": 9,
   "id": "ba6fc9de",
   "metadata": {},
   "outputs": [],
   "source": [
    "#box-counting function\n",
    "def N(epsilon):\n",
    "    #find minimums for offset\n",
    "    x_min = points[0][0]\n",
    "    z_min = points[0][2]\n",
    "    for point in points:\n",
    "        if point[0] < x_min:\n",
    "            x_min = point[0]\n",
    "        if point[2] < z_min:\n",
    "            z_min = point[2]\n",
    "    \n",
    "    #use a python set to count balls without duplication\n",
    "    balls = set()\n",
    "    for point in points:\n",
    "        ball_x = math.ceil((point[0] - x_min)/epsilon)\n",
    "        ball_z = math.ceil((point[2] - z_min)/epsilon)\n",
    "        balls.add(tuple((ball_x,ball_z)))\n",
    "    return len(balls)"
   ]
  },
  {
   "cell_type": "markdown",
   "id": "1224e592",
   "metadata": {},
   "source": [
    "## Question 1.a \n",
    "\n",
    "Using an $x$, $z$ projection (i.e., only the $x$ and $z$ coordinates) of this trajectory, with $\\varepsilon = 0.05$, what is $N(\\varepsilon)$?"
   ]
  },
  {
   "cell_type": "code",
   "execution_count": 10,
   "id": "e4cf30ee",
   "metadata": {},
   "outputs": [
    {
     "data": {
      "text/plain": [
       "13968"
      ]
     },
     "execution_count": 10,
     "metadata": {},
     "output_type": "execute_result"
    }
   ],
   "source": [
    "N(0.05)"
   ]
  },
  {
   "cell_type": "markdown",
   "id": "ed89fc60",
   "metadata": {},
   "source": [
    "## Question 1.b\n",
    "\n",
    "Comparing to the total number of points in the trajectory"
   ]
  },
  {
   "cell_type": "code",
   "execution_count": 11,
   "id": "c9434e90",
   "metadata": {},
   "outputs": [
    {
     "data": {
      "text/plain": [
       "14000"
      ]
     },
     "execution_count": 11,
     "metadata": {},
     "output_type": "execute_result"
    }
   ],
   "source": [
    "len(points)"
   ]
  },
  {
   "cell_type": "markdown",
   "id": "8e9fffaa",
   "metadata": {},
   "source": [
    "## Question 1.c\n",
    "\n",
    "Again using an $x$, $z$ projection of this trajectory, but with $\\varepsilon = 0.5$, find $N(\\varepsilon)$."
   ]
  },
  {
   "cell_type": "code",
   "execution_count": 12,
   "id": "b43f8c1d",
   "metadata": {},
   "outputs": [
    {
     "data": {
      "text/plain": [
       "4345"
      ]
     },
     "execution_count": 12,
     "metadata": {},
     "output_type": "execute_result"
    }
   ],
   "source": [
    "N(0.5)"
   ]
  },
  {
   "cell_type": "markdown",
   "id": "012522c2",
   "metadata": {},
   "source": [
    "## Question 2\n",
    "\n",
    "Use the function from problem 1 and a loop to implement the box-counting algorithm.  Use the logic from the first problem to choose a good range of $\\varepsilon$.  This should generate a plot of $\\log(N(\\varepsilon))$ versus $\\log(1/\\varepsilon)$."
   ]
  },
  {
   "cell_type": "code",
   "execution_count": 13,
   "id": "75f83e43",
   "metadata": {},
   "outputs": [
    {
     "data": {
      "image/png": "[encoded data removed]",
      "text/plain": [
       "<Figure size 640x480 with 1 Axes>"
      ]
     },
     "metadata": {},
     "output_type": "display_data"
    }
   ],
   "source": [
    "d_epsilon = []\n",
    "for epsilon in np.arange(10,0,-0.1):\n",
    "    d_epsilon.append(tuple((math.log(1/epsilon),math.log(N(epsilon)))))\n",
    "    \n",
    "plt.plot([x[0] for x in d_epsilon], [x[1] for x in d_epsilon])\n",
    "plt.show()"
   ]
  },
  {
   "cell_type": "markdown",
   "id": "06d93a2c",
   "metadata": {},
   "source": [
    "#### Fit a line to the scaling region of the resulting plot to determine the capacity dimension of this trajectory."
   ]
  },
  {
   "cell_type": "code",
   "execution_count": 14,
   "id": "b2cbb2c1",
   "metadata": {},
   "outputs": [
    {
     "name": "stdout",
     "output_type": "stream",
     "text": [
      "LinregressResult(slope=1.6380047640724589, intercept=7.27787333818707, rvalue=0.9988953112271017, pvalue=1.0246254145323458e-30, stderr=0.01642853511300312, intercept_stderr=0.010210019866756265)\n"
     ]
    }
   ],
   "source": [
    "scaling_region = [x for x in d_epsilon if (x[0] > -1 and x[0] < 1)]\n",
    "\n",
    "line = stats.linregress(scaling_region)\n",
    "print(line)\n",
    "\n",
    "#scaling dimension ~= 1.638"
   ]
  },
  {
   "cell_type": "code",
   "execution_count": null,
   "id": "8cd1ca4b",
   "metadata": {},
   "outputs": [],
   "source": []
  }
 ],
 "metadata": {
  "kernelspec": {
   "display_name": "Python 3 (ipykernel)",
   "language": "python",
   "name": "python3"
  },
  "language_info": {
   "codemirror_mode": {
    "name": "ipython",
    "version": 3
   },
   "file_extension": ".py",
   "mimetype": "text/x-python",
   "name": "python",
   "nbconvert_exporter": "python",
   "pygments_lexer": "ipython3",
   "version": "3.11.3"
  }
 },
 "nbformat": 4,
 "nbformat_minor": 5
}
